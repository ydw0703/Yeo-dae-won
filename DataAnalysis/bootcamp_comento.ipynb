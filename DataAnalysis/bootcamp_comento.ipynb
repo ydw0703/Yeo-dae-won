{
 "metadata": {
  "language_info": {
   "codemirror_mode": {
    "name": "ipython",
    "version": 3
   },
   "file_extension": ".py",
   "mimetype": "text/x-python",
   "name": "python",
   "nbconvert_exporter": "python",
   "pygments_lexer": "ipython3",
   "version": "3.7.4-final"
  },
  "orig_nbformat": 2,
  "kernelspec": {
   "name": "python3",
   "display_name": "Python 3",
   "language": "python"
  }
 },
 "nbformat": 4,
 "nbformat_minor": 2,
 "cells": [
  {
   "cell_type": "code",
   "execution_count": 1,
   "metadata": {},
   "outputs": [
    {
     "output_type": "execute_result",
     "data": {
      "text/plain": [
       "'c:\\\\Coding\\\\DataAnalysis'"
      ]
     },
     "metadata": {},
     "execution_count": 1
    }
   ],
   "source": [
    "%pwd"
   ]
  },
  {
   "cell_type": "code",
   "execution_count": 2,
   "metadata": {},
   "outputs": [
    {
     "output_type": "stream",
     "name": "stdout",
     "text": [
      " C ����̺��� �������� �̸��� �����ϴ�.\n ���� �Ϸ� ��ȣ: BEFE-3882\n\n c:\\Coding\\DataAnalysis ���͸�\n\n2021-01-21  ���� 01:55        11,506,437 comento_test_daily_20201127.gz\n               1�� ����          11,506,437 ����Ʈ\n               0�� ���͸�  31,923,236,864 ����Ʈ ����\n"
     ]
    }
   ],
   "source": [
    "%ls comento_test_daily_20201127.gz"
   ]
  },
  {
   "cell_type": "code",
   "execution_count": 3,
   "metadata": {},
   "outputs": [
    {
     "output_type": "stream",
     "name": "stderr",
     "text": [
      "UsageError: Line magic function `%mv` not found.\n"
     ]
    }
   ],
   "source": [
    "%mv"
   ]
  },
  {
   "cell_type": "code",
   "execution_count": 6,
   "metadata": {},
   "outputs": [],
   "source": [
    "import pandas as pd\n",
    "# example_obj=Series?"
   ]
  },
  {
   "cell_type": "code",
   "execution_count": 7,
   "metadata": {},
   "outputs": [
    {
     "output_type": "execute_result",
     "data": {
      "text/plain": [
       "                0                1           2  \\\n",
       "0  121.11.xxx.xxx  23d-rmq-holjwfs  1606450990   \n",
       "1  121.11.xxx.xxx  23o-4oo-uvhg2v4  1606445957   \n",
       "2  121.11.xxx.xxx  2gc-rkl-mhwiof4  1606461536   \n",
       "3  121.11.xxx.xxx  2gg-hqp-k3nv7vw  1606461630   \n",
       "4  121.11.xxx.xxx  2gg-hqp-k3nv7vw  1606462310   \n",
       "\n",
       "                                                   3   4  5  \n",
       "0  https://news.sample.comento.com?st=1&media=029...  48  m  \n",
       "1  https://news.sample.comento.com?st=1&media=019...  51  m  \n",
       "2  https://news.sample.comento.com?st=1&media=009...  35  f  \n",
       "3  https://news.sample.comento.com?st=1&media=029...  19  m  \n",
       "4  https://news.sample.comento.com?st=1&media=079...  19  m  "
      ],
      "text/html": "<div>\n<style scoped>\n    .dataframe tbody tr th:only-of-type {\n        vertical-align: middle;\n    }\n\n    .dataframe tbody tr th {\n        vertical-align: top;\n    }\n\n    .dataframe thead th {\n        text-align: right;\n    }\n</style>\n<table border=\"1\" class=\"dataframe\">\n  <thead>\n    <tr style=\"text-align: right;\">\n      <th></th>\n      <th>0</th>\n      <th>1</th>\n      <th>2</th>\n      <th>3</th>\n      <th>4</th>\n      <th>5</th>\n    </tr>\n  </thead>\n  <tbody>\n    <tr>\n      <td>0</td>\n      <td>121.11.xxx.xxx</td>\n      <td>23d-rmq-holjwfs</td>\n      <td>1606450990</td>\n      <td>https://news.sample.comento.com?st=1&amp;media=029...</td>\n      <td>48</td>\n      <td>m</td>\n    </tr>\n    <tr>\n      <td>1</td>\n      <td>121.11.xxx.xxx</td>\n      <td>23o-4oo-uvhg2v4</td>\n      <td>1606445957</td>\n      <td>https://news.sample.comento.com?st=1&amp;media=019...</td>\n      <td>51</td>\n      <td>m</td>\n    </tr>\n    <tr>\n      <td>2</td>\n      <td>121.11.xxx.xxx</td>\n      <td>2gc-rkl-mhwiof4</td>\n      <td>1606461536</td>\n      <td>https://news.sample.comento.com?st=1&amp;media=009...</td>\n      <td>35</td>\n      <td>f</td>\n    </tr>\n    <tr>\n      <td>3</td>\n      <td>121.11.xxx.xxx</td>\n      <td>2gg-hqp-k3nv7vw</td>\n      <td>1606461630</td>\n      <td>https://news.sample.comento.com?st=1&amp;media=029...</td>\n      <td>19</td>\n      <td>m</td>\n    </tr>\n    <tr>\n      <td>4</td>\n      <td>121.11.xxx.xxx</td>\n      <td>2gg-hqp-k3nv7vw</td>\n      <td>1606462310</td>\n      <td>https://news.sample.comento.com?st=1&amp;media=079...</td>\n      <td>19</td>\n      <td>m</td>\n    </tr>\n  </tbody>\n</table>\n</div>"
     },
     "metadata": {},
     "execution_count": 7
    }
   ],
   "source": [
    "df=pd.read_csv('comento_test_daily_20201127.gz',compression='gzip',sep='\\t',header=None)\n",
    "df.head()"
   ]
  },
  {
   "cell_type": "code",
   "execution_count": 110,
   "metadata": {},
   "outputs": [],
   "source": [
    "import gzip\n",
    "import re\n",
    "import sys\n",
    "import datetime\n",
    "\n",
    "cnt=0\n",
    "m_cnt=0\n",
    "\n",
    "outfile = open('comento_test_daily_20201127.mapout','w',encoding='UTF-8')\n",
    "f=gzip.open('comento_test_daily_20201127.gz','r')\n",
    "\n",
    "for line in f:\n",
    "    line = (line.decode('utf8').strip())\n",
    "    fields = line.split('\\t')\n",
    "    \n",
    "    cnt+=1\n",
    "    userkey=fields[1]\n",
    "    url=fields[3]\n",
    "    timestemp = fields[2]\n",
    "    # 1.timestemp(epoch time; 1970년 1월 1일 0시 0분 0초부터 밀리세컨드 값으로 나타낸 값)으로 나타나있는 시간을 우리가 볼 수 있는 시간으로 변형 가능. \n",
    "    # a=int(timestemp)\n",
    "    # date=datetime.datetime.fromtimestamp(a).strftime('%Y-%m-%d       %H:%M:%S')\n",
    "    \n",
    "    # 2.시간을 밀리세컨트로 나타낸 값.\n",
    "    # from datetime import datetime\n",
    "    # import time\n",
    "    # ts='2021-01-27 13:06:30'\n",
    "    # timestamp = time.mktime(datetime.strptime(ts, '%Y-%m-%d   %H:%M:%S').timetuple())\n",
    "    # print(timestamp) \n",
    "\n",
    "\n",
    "# from datetime import datetime\n",
    "# d = datetime.fromtimestamp(time.time())\n",
    "# print(d)\n",
    "    url_list=url.split('?')\n",
    "    if len(url_list)>1:\n",
    "        params=url_list[1]\n",
    "        result=re.search('[&]+media=(?P<media>[^&]*)',params)\n",
    "        if result:\n",
    "            media=result.group('media')\n",
    "            m_cnt+=1\n",
    "\n",
    "            outfile.write(userkey+ '\\t' + media + '\\t' + timestemp + '\\t1\\n')\n",
    "f.close()"
   ]
  },
  {
   "cell_type": "code",
   "execution_count": 118,
   "metadata": {},
   "outputs": [
    {
     "output_type": "execute_result",
     "data": {
      "text/plain": [
       "                userkey  media   timestemp  cnt\n",
       "360000  232-44p-2jqnwfy   1914  1606472053    1\n",
       "355067  232-44p-2jqnwfy   1914  1606472070    1\n",
       "288389  232-44p-2jqnwfy  37974  1606472081    1\n",
       "349933  232-44p-2jqnwfy    909  1606427896    1\n",
       "9196    232-44p-2jqnwfy   1916  1606456198    1\n",
       "...                 ...    ...         ...  ...\n",
       "259922  zqz-rka-mygh5fy   8981  1606455120    1\n",
       "290986  zqz-rka-mygh5fy    901  1606437371    1\n",
       "38869   zqz-ryn-igu2afm   1915  1606474240    1\n",
       "307456  zqz-ryn-igu2afm   2922  1606488137    1\n",
       "69687   zqz-ryn-igu2afm    909  1606474087    1\n",
       "\n",
       "[516192 rows x 4 columns]"
      ],
      "text/html": "<div>\n<style scoped>\n    .dataframe tbody tr th:only-of-type {\n        vertical-align: middle;\n    }\n\n    .dataframe tbody tr th {\n        vertical-align: top;\n    }\n\n    .dataframe thead th {\n        text-align: right;\n    }\n</style>\n<table border=\"1\" class=\"dataframe\">\n  <thead>\n    <tr style=\"text-align: right;\">\n      <th></th>\n      <th>userkey</th>\n      <th>media</th>\n      <th>timestemp</th>\n      <th>cnt</th>\n    </tr>\n  </thead>\n  <tbody>\n    <tr>\n      <td>360000</td>\n      <td>232-44p-2jqnwfy</td>\n      <td>1914</td>\n      <td>1606472053</td>\n      <td>1</td>\n    </tr>\n    <tr>\n      <td>355067</td>\n      <td>232-44p-2jqnwfy</td>\n      <td>1914</td>\n      <td>1606472070</td>\n      <td>1</td>\n    </tr>\n    <tr>\n      <td>288389</td>\n      <td>232-44p-2jqnwfy</td>\n      <td>37974</td>\n      <td>1606472081</td>\n      <td>1</td>\n    </tr>\n    <tr>\n      <td>349933</td>\n      <td>232-44p-2jqnwfy</td>\n      <td>909</td>\n      <td>1606427896</td>\n      <td>1</td>\n    </tr>\n    <tr>\n      <td>9196</td>\n      <td>232-44p-2jqnwfy</td>\n      <td>1916</td>\n      <td>1606456198</td>\n      <td>1</td>\n    </tr>\n    <tr>\n      <td>...</td>\n      <td>...</td>\n      <td>...</td>\n      <td>...</td>\n      <td>...</td>\n    </tr>\n    <tr>\n      <td>259922</td>\n      <td>zqz-rka-mygh5fy</td>\n      <td>8981</td>\n      <td>1606455120</td>\n      <td>1</td>\n    </tr>\n    <tr>\n      <td>290986</td>\n      <td>zqz-rka-mygh5fy</td>\n      <td>901</td>\n      <td>1606437371</td>\n      <td>1</td>\n    </tr>\n    <tr>\n      <td>38869</td>\n      <td>zqz-ryn-igu2afm</td>\n      <td>1915</td>\n      <td>1606474240</td>\n      <td>1</td>\n    </tr>\n    <tr>\n      <td>307456</td>\n      <td>zqz-ryn-igu2afm</td>\n      <td>2922</td>\n      <td>1606488137</td>\n      <td>1</td>\n    </tr>\n    <tr>\n      <td>69687</td>\n      <td>zqz-ryn-igu2afm</td>\n      <td>909</td>\n      <td>1606474087</td>\n      <td>1</td>\n    </tr>\n  </tbody>\n</table>\n<p>516192 rows × 4 columns</p>\n</div>"
     },
     "metadata": {},
     "execution_count": 118
    }
   ],
   "source": [
    "#위의 전처리한 데이터를 가지고 새로운 데이터 프레임 만들기\n",
    "df= pd.read_csv('comento_test_daily_20201127.mapout',sep='\\t', names=['userkey','media','timestemp','cnt'])\n",
    "df_sorted_by_values=df.sort_values(by=['userkey'],axis=0)\n",
    "df_sorted_by_values.to_csv('comento_test_daily_20201127.reducer_input',index=False, header=None, sep='\\t')\n",
    "df_sorted_by_values"
   ]
  },
  {
   "cell_type": "code",
   "execution_count": 119,
   "metadata": {},
   "outputs": [
    {
     "output_type": "stream",
     "name": "stdout",
     "text": [
      "72010\t516192\t413854\t12594540\n"
     ]
    }
   ],
   "source": [
    "#reducer 로직 작성\n",
    "import sys\n",
    "\n",
    "#30분을 세션타임으로 지정\n",
    "SESSION_TIME=1800\n",
    "\n",
    "#init\n",
    "pre_key=None\n",
    "pre_ts=0\n",
    "result_dic={'pv':0,'usercnt':0,'duration':0,'visit':0} #결과 값 컬럼 추가\n",
    "\n",
    "#reducer 파일 열기\n",
    "f=open('comento_test_daily_20201127.reducer_input','r')\n",
    "\n",
    "for line in f:\n",
    "    fields= line.strip().split('\\t')\n",
    "    userkey, meida, ts, cnt = fields\n",
    "    key=userkey\n",
    "    ts=int(ts)\n",
    "    #만약 pre_key가 key가 아니고, pre_key의 값이 있다면,\n",
    "    if pre_key != key and pre_key is not None:\n",
    "        #초기화한 딕셔너리의usercnt라는 키에 +1씩 증가\n",
    "        result_dic['usercnt']+=1\n",
    "    pre_key=key\n",
    "        #init\n",
    "        #새로운 usercount가 나왔고, 이전 방문시간이 없으니 꼭 pre_ts를 초기화 해줘야 함.\n",
    "        pre_ts = 0\n",
    "    #pv는 로그수 임으로 바로 카운트\n",
    "    result_dic['pv']+=1\n",
    "    \n",
    "    \n",
    "    #duration은 이전 라인과의 시간차를 보고 30분 이내만 더해 줌.\n",
    "    #첫 라인에서는! pre_ts가 0임으로 무조건 30분 이상 차이가 날 것임으로 더해지지 않음.\n",
    "    du = ts - pre_ts\n",
    "    if (du>0 and du<=SESSION_TIME):\n",
    "        result_dic['duration']+=du\n",
    "    pre_ts = timestemp\n",
    "    #visit은 30분 초과의 시간차가 날때 더해준다.\n",
    "    #첫 라인은 pre_ts가 0이니 무조건 visit + 1이다.\n",
    "    if (du>SESSION_TIME):\n",
    "        result_dic['visit']+=1\n",
    "\n",
    "    \n",
    "    #media의 갯수를 구하는 코딩\n",
    "    # if media_dic.get(media) is None:\n",
    "    #     media_dic[media]={'usercnt':0,'pv':0}\n",
    "    # media_dic[media]['pv']+=1\n",
    "\n",
    "    # pre_key=key\n",
    "    # pre_media = media\n",
    "\n",
    "f.close()\n",
    "\n",
    "# 마지막 라인\n",
    "if pre_key is not None:\n",
    "    result_dic['usercnt']+=1\n",
    "\n",
    "print(str(result_dic['usercnt'])+'\\t'+str(result_dic['pv'])+'\\t'+str(result_dic['visit'])+'\\t'+str(result_dic['duration']))\n",
    "# media에 대한 코딩\n",
    "# if pre_key is not None:\n",
    "#     media_dic[pre_media][\"usercnt\"]+=1\n",
    "# for _media in media_dic:\n",
    "#     print(str(_media)+\"\\t\"+str(media_dic[_media][\"usercnt\"])+'\\t'+ str(media_dic[_media]['pv']))"
   ]
  },
  {
   "cell_type": "code",
   "execution_count": 50,
   "metadata": {},
   "outputs": [
    {
     "output_type": "stream",
     "name": "stdout",
     "text": [
      "2021-01-27 13:06:30\n"
     ]
    }
   ],
   "source": [
    "from datetime import datetime\n",
    "import time\n",
    "ts='2021-01-27 13:06:30'\n",
    "timestamp = time.mktime(datetime.strptime(ts, '%Y-%m-%d %H:%M:%S').timetuple())\n",
    "print(timestamp) #시간을 밀리세컨트로 나타낸 값.\n",
    "import datetime \n",
    "a=int(timestamp)\n",
    "date=datetime.datetime.fromtimestamp(a).strftime('%Y-%m-%d %H:%M:%S')\n",
    "print(date)\n",
    "from datetime import datetime\n",
    "d = datetime.fromtimestamp(time.time())\n",
    "print(d)"
   ]
  },
  {
   "cell_type": "code",
   "execution_count": 52,
   "metadata": {},
   "outputs": [
    {
     "output_type": "stream",
     "name": "stdout",
     "text": [
      "2021-01-28 13:50:13.897310\n"
     ]
    }
   ],
   "source": []
  },
  {
   "cell_type": "code",
   "execution_count": 6,
   "metadata": {},
   "outputs": [
    {
     "output_type": "error",
     "ename": "SyntaxError",
     "evalue": "invalid syntax (<ipython-input-6-b76ee4a94bf6>, line 4)",
     "traceback": [
      "\u001b[1;36m  File \u001b[1;32m\"<ipython-input-6-b76ee4a94bf6>\"\u001b[1;36m, line \u001b[1;32m4\u001b[0m\n\u001b[1;33m    'browser_cookie': '23d-rmq-holjwfs'\u001b[0m\n\u001b[1;37m                    ^\u001b[0m\n\u001b[1;31mSyntaxError\u001b[0m\u001b[1;31m:\u001b[0m invalid syntax\n"
     ]
    }
   ],
   "source": [
    "logic=[\n",
    "    {\n",
    "        \"IP address\":\"121.11.xxx.xxx\"\n",
    "        'browser_cookie': '23d-rmq-holjwfs'\n",
    "        'timestamp': '1606450990'\n",
    "        'url': 'https://news.sample.comento.com?st=1&media=029'\n",
    "\t    'age': '48'\n",
    "        'gender': 'm'\n",
    "        # 'share' :'yes' #공유 링크를 클릭하여 공유를 했는지 여부를         가지고 공유된 ip에 추천 로직도 고려해볼 수 있을까? \n",
    "    }\n",
    "]"
   ]
  },
  {
   "cell_type": "code",
   "execution_count": 7,
   "metadata": {},
   "outputs": [
    {
     "output_type": "stream",
     "name": "stdout",
     "text": [
      "['c:\\\\Coding\\\\DataAnalysis', 'c:\\\\Users\\\\Administrator\\\\.vscode\\\\extensions\\\\ms-toolsai.jupyter-2020.12.414227025\\\\pythonFiles', 'c:\\\\Users\\\\Administrator\\\\.vscode\\\\extensions\\\\ms-toolsai.jupyter-2020.12.414227025\\\\pythonFiles\\\\lib\\\\python', 'C:\\\\ProgramData\\\\Anaconda3\\\\python37.zip', 'C:\\\\ProgramData\\\\Anaconda3\\\\DLLs', 'C:\\\\ProgramData\\\\Anaconda3\\\\lib', 'C:\\\\ProgramData\\\\Anaconda3', '', 'C:\\\\ProgramData\\\\Anaconda3\\\\lib\\\\site-packages', 'C:\\\\ProgramData\\\\Anaconda3\\\\lib\\\\site-packages\\\\win32', 'C:\\\\ProgramData\\\\Anaconda3\\\\lib\\\\site-packages\\\\win32\\\\lib', 'C:\\\\ProgramData\\\\Anaconda3\\\\lib\\\\site-packages\\\\Pythonwin', 'C:\\\\ProgramData\\\\Anaconda3\\\\lib\\\\site-packages\\\\IPython\\\\extensions', 'C:\\\\Users\\\\Administrator\\\\.ipython']\n"
     ]
    }
   ],
   "source": [
    "import sys\n",
    "print(sys.path)"
   ]
  },
  {
   "cell_type": "code",
   "execution_count": 3,
   "metadata": {},
   "outputs": [],
   "source": [
    "import numpy as np\n",
    "import pandas as pd\n"
   ]
  },
  {
   "cell_type": "code",
   "execution_count": 5,
   "metadata": {},
   "outputs": [
    {
     "output_type": "stream",
     "text": [
      "\u001b[1;31mInit signature:\u001b[0m\n",
      "\u001b[0mpd\u001b[0m\u001b[1;33m.\u001b[0m\u001b[0mSeries\u001b[0m\u001b[1;33m(\u001b[0m\u001b[1;33m\n",
      "\u001b[0m    \u001b[0mdata\u001b[0m\u001b[1;33m=\u001b[0m\u001b[1;32mNone\u001b[0m\u001b[1;33m,\u001b[0m\u001b[1;33m\n",
      "\u001b[0m    \u001b[0mindex\u001b[0m\u001b[1;33m=\u001b[0m\u001b[1;32mNone\u001b[0m\u001b[1;33m,\u001b[0m\u001b[1;33m\n",
      "\u001b[0m    \u001b[0mdtype\u001b[0m\u001b[1;33m=\u001b[0m\u001b[1;32mNone\u001b[0m\u001b[1;33m,\u001b[0m\u001b[1;33m\n",
      "\u001b[0m    \u001b[0mname\u001b[0m\u001b[1;33m=\u001b[0m\u001b[1;32mNone\u001b[0m\u001b[1;33m,\u001b[0m\u001b[1;33m\n",
      "\u001b[0m    \u001b[0mcopy\u001b[0m\u001b[1;33m=\u001b[0m\u001b[1;32mFalse\u001b[0m\u001b[1;33m,\u001b[0m\u001b[1;33m\n",
      "\u001b[0m    \u001b[0mfastpath\u001b[0m\u001b[1;33m=\u001b[0m\u001b[1;32mFalse\u001b[0m\u001b[1;33m,\u001b[0m\u001b[1;33m\n",
      "\u001b[0m\u001b[1;33m)\u001b[0m\u001b[1;33m\u001b[0m\u001b[1;33m\u001b[0m\u001b[0m\n",
      "\u001b[1;31mDocstring:\u001b[0m     \n",
      "One-dimensional ndarray with axis labels (including time series).\n",
      "\n",
      "Labels need not be unique but must be a hashable type. The object\n",
      "supports both integer- and label-based indexing and provides a host of\n",
      "methods for performing operations involving the index. Statistical\n",
      "methods from ndarray have been overridden to automatically exclude\n",
      "missing data (currently represented as NaN).\n",
      "\n",
      "Operations between Series (+, -, /, *, **) align values based on their\n",
      "associated index values-- they need not be the same length. The result\n",
      "index will be the sorted union of the two indexes.\n",
      "\n",
      "Parameters\n",
      "----------\n",
      "data : array-like, Iterable, dict, or scalar value\n",
      "    Contains data stored in Series.\n",
      "\n",
      "    .. versionchanged :: 0.23.0\n",
      "       If data is a dict, argument order is maintained for Python 3.6\n",
      "       and later.\n",
      "\n",
      "index : array-like or Index (1d)\n",
      "    Values must be hashable and have the same length as `data`.\n",
      "    Non-unique index values are allowed. Will default to\n",
      "    RangeIndex (0, 1, 2, ..., n) if not provided. If both a dict and index\n",
      "    sequence are used, the index will override the keys found in the\n",
      "    dict.\n",
      "dtype : str, numpy.dtype, or ExtensionDtype, optional\n",
      "    Data type for the output Series. If not specified, this will be\n",
      "    inferred from `data`.\n",
      "    See the :ref:`user guide <basics.dtypes>` for more usages.\n",
      "copy : bool, default False\n",
      "    Copy input data.\n",
      "\u001b[1;31mFile:\u001b[0m           c:\\programdata\\anaconda3\\lib\\site-packages\\pandas\\core\\series.py\n",
      "\u001b[1;31mType:\u001b[0m           type\n",
      "\u001b[1;31mSubclasses:\u001b[0m     SparseSeries, SubclassedSeries\n"
     ],
     "name": "stdout"
    }
   ],
   "source": [
    "np.random.normal()\n",
    "pd.Series?"
   ]
  },
  {
   "cell_type": "code",
   "execution_count": null,
   "metadata": {},
   "outputs": [],
   "source": []
  }
 ]
}