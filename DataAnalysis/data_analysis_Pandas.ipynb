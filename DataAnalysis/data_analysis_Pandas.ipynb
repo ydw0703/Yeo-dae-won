{
 "cells": [
  {
   "cell_type": "code",
   "execution_count": 14,
   "metadata": {},
   "outputs": [],
   "source": [
    "import numpy as np\n",
    "import pandas as pd\n",
    "\n",
    "# Shift+enter = 코드 실행 후 다음으로 넘어감.\n",
    "# Ctrl+enter = 코드 실행\n",
    "\n",
    "# 기본적으로 table은 list형태이다. \n",
    "# 함수나 변수, 파일을 불러올때는()"
   ]
  },
  {
   "cell_type": "code",
   "execution_count": 3,
   "metadata": {},
   "outputs": [
    {
     "output_type": "execute_result",
     "data": {
      "text/plain": "Series([], dtype: float64)"
     },
     "metadata": {},
     "execution_count": 3
    }
   ],
   "source": [
    "pd.Series()"
   ]
  },
  {
   "cell_type": "code",
   "execution_count": 5,
   "metadata": {},
   "outputs": [
    {
     "output_type": "execute_result",
     "data": {
      "text/plain": "0    10\n1    20\n2    30\ndtype: int64"
     },
     "metadata": {},
     "execution_count": 5
    }
   ],
   "source": [
    "ser1 = pd.Series([10,20,30])\n",
    "ser1"
   ]
  },
  {
   "cell_type": "code",
   "execution_count": 7,
   "metadata": {},
   "outputs": [
    {
     "output_type": "execute_result",
     "data": {
      "text/plain": "a    10\nb    20\nc    30\ndtype: int64"
     },
     "metadata": {},
     "execution_count": 7
    }
   ],
   "source": [
    "ser1.index=['a','b','c']\n",
    "ser1"
   ]
  },
  {
   "cell_type": "code",
   "execution_count": 5,
   "metadata": {},
   "outputs": [
    {
     "output_type": "execute_result",
     "data": {
      "text/plain": "a    100\nb    200\ndtype: int64"
     },
     "metadata": {},
     "execution_count": 5
    }
   ],
   "source": [
    "ser2=pd.Series({'a':100,'b':200})\n",
    "ser2"
   ]
  },
  {
   "cell_type": "code",
   "execution_count": 6,
   "metadata": {},
   "outputs": [
    {
     "output_type": "execute_result",
     "data": {
      "text/plain": "USA        1\nGERMANY    2\ndtype: int64"
     },
     "metadata": {},
     "execution_count": 6
    }
   ],
   "source": [
    "ser3=pd.Series(data = [1,2], index = ['USA','GERMANY'])\n",
    "ser3\n",
    "# Pandas Series는 인덱스가 부여가 되기 때문에 index끼리 연산이 가능하다."
   ]
  },
  {
   "cell_type": "code",
   "execution_count": 73,
   "metadata": {},
   "outputs": [
    {
     "output_type": "execute_result",
     "data": {
      "text/plain": "    show_id     type                                    title  \\\n0  81145628    Movie  Norm of the North: King Sized Adventure   \n1  80117401    Movie               Jandino: Whatever it Takes   \n2  70234439  TV Show                       Transformers Prime   \n3  80058654  TV Show         Transformers: Robots in Disguise   \n4  80125979    Movie                             #realityhigh   \n\n                   director                                   country  \\\n0  Richard Finn, Tim Maltby  United States, India, South Korea, China   \n1                       NaN                            United Kingdom   \n2                       NaN                             United States   \n3                       NaN                             United States   \n4          Fernando Lebrija                             United States   \n\n   Unnamed: 5 release_year    rating  duration  \\\n0         NaN         2019     TV-PG    90 min   \n1         NaN         2016     TV-MA    94 min   \n2         NaN         2013  TV-Y7-FV  1 Season   \n3         NaN         2016     TV-Y7  1 Season   \n4         NaN         2017     TV-14    99 min   \n\n                            listed_in  ... Unnamed: 16 Unnamed: 17  \\\n0  Children & Family Movies, Comedies  ...         NaN         NaN   \n1                     Stand-Up Comedy  ...         NaN         NaN   \n2                            Kids' TV  ...         NaN         NaN   \n3                            Kids' TV  ...         NaN         NaN   \n4                            Comedies  ...         NaN         NaN   \n\n  Unnamed: 18 Unnamed: 19 Unnamed: 20 Unnamed: 21 Unnamed: 22 Unnamed: 23  \\\n0         NaN         NaN         NaN         NaN         NaN         NaN   \n1         NaN         NaN         NaN         NaN         NaN         NaN   \n2         NaN         NaN         NaN         NaN         NaN         NaN   \n3         NaN         NaN         NaN         NaN         NaN         NaN   \n4         NaN         NaN         NaN         NaN         NaN         NaN   \n\n  Unnamed: 24 Unnamed: 25  \n0         NaN         NaN  \n1         NaN         NaN  \n2         NaN         NaN  \n3         NaN         NaN  \n4         NaN         NaN  \n\n[5 rows x 26 columns]",
      "text/html": "<div>\n<style scoped>\n    .dataframe tbody tr th:only-of-type {\n        vertical-align: middle;\n    }\n\n    .dataframe tbody tr th {\n        vertical-align: top;\n    }\n\n    .dataframe thead th {\n        text-align: right;\n    }\n</style>\n<table border=\"1\" class=\"dataframe\">\n  <thead>\n    <tr style=\"text-align: right;\">\n      <th></th>\n      <th>show_id</th>\n      <th>type</th>\n      <th>title</th>\n      <th>director</th>\n      <th>country</th>\n      <th>Unnamed: 5</th>\n      <th>release_year</th>\n      <th>rating</th>\n      <th>duration</th>\n      <th>listed_in</th>\n      <th>...</th>\n      <th>Unnamed: 16</th>\n      <th>Unnamed: 17</th>\n      <th>Unnamed: 18</th>\n      <th>Unnamed: 19</th>\n      <th>Unnamed: 20</th>\n      <th>Unnamed: 21</th>\n      <th>Unnamed: 22</th>\n      <th>Unnamed: 23</th>\n      <th>Unnamed: 24</th>\n      <th>Unnamed: 25</th>\n    </tr>\n  </thead>\n  <tbody>\n    <tr>\n      <td>0</td>\n      <td>81145628</td>\n      <td>Movie</td>\n      <td>Norm of the North: King Sized Adventure</td>\n      <td>Richard Finn, Tim Maltby</td>\n      <td>United States, India, South Korea, China</td>\n      <td>NaN</td>\n      <td>2019</td>\n      <td>TV-PG</td>\n      <td>90 min</td>\n      <td>Children &amp; Family Movies, Comedies</td>\n      <td>...</td>\n      <td>NaN</td>\n      <td>NaN</td>\n      <td>NaN</td>\n      <td>NaN</td>\n      <td>NaN</td>\n      <td>NaN</td>\n      <td>NaN</td>\n      <td>NaN</td>\n      <td>NaN</td>\n      <td>NaN</td>\n    </tr>\n    <tr>\n      <td>1</td>\n      <td>80117401</td>\n      <td>Movie</td>\n      <td>Jandino: Whatever it Takes</td>\n      <td>NaN</td>\n      <td>United Kingdom</td>\n      <td>NaN</td>\n      <td>2016</td>\n      <td>TV-MA</td>\n      <td>94 min</td>\n      <td>Stand-Up Comedy</td>\n      <td>...</td>\n      <td>NaN</td>\n      <td>NaN</td>\n      <td>NaN</td>\n      <td>NaN</td>\n      <td>NaN</td>\n      <td>NaN</td>\n      <td>NaN</td>\n      <td>NaN</td>\n      <td>NaN</td>\n      <td>NaN</td>\n    </tr>\n    <tr>\n      <td>2</td>\n      <td>70234439</td>\n      <td>TV Show</td>\n      <td>Transformers Prime</td>\n      <td>NaN</td>\n      <td>United States</td>\n      <td>NaN</td>\n      <td>2013</td>\n      <td>TV-Y7-FV</td>\n      <td>1 Season</td>\n      <td>Kids' TV</td>\n      <td>...</td>\n      <td>NaN</td>\n      <td>NaN</td>\n      <td>NaN</td>\n      <td>NaN</td>\n      <td>NaN</td>\n      <td>NaN</td>\n      <td>NaN</td>\n      <td>NaN</td>\n      <td>NaN</td>\n      <td>NaN</td>\n    </tr>\n    <tr>\n      <td>3</td>\n      <td>80058654</td>\n      <td>TV Show</td>\n      <td>Transformers: Robots in Disguise</td>\n      <td>NaN</td>\n      <td>United States</td>\n      <td>NaN</td>\n      <td>2016</td>\n      <td>TV-Y7</td>\n      <td>1 Season</td>\n      <td>Kids' TV</td>\n      <td>...</td>\n      <td>NaN</td>\n      <td>NaN</td>\n      <td>NaN</td>\n      <td>NaN</td>\n      <td>NaN</td>\n      <td>NaN</td>\n      <td>NaN</td>\n      <td>NaN</td>\n      <td>NaN</td>\n      <td>NaN</td>\n    </tr>\n    <tr>\n      <td>4</td>\n      <td>80125979</td>\n      <td>Movie</td>\n      <td>#realityhigh</td>\n      <td>Fernando Lebrija</td>\n      <td>United States</td>\n      <td>NaN</td>\n      <td>2017</td>\n      <td>TV-14</td>\n      <td>99 min</td>\n      <td>Comedies</td>\n      <td>...</td>\n      <td>NaN</td>\n      <td>NaN</td>\n      <td>NaN</td>\n      <td>NaN</td>\n      <td>NaN</td>\n      <td>NaN</td>\n      <td>NaN</td>\n      <td>NaN</td>\n      <td>NaN</td>\n      <td>NaN</td>\n    </tr>\n  </tbody>\n</table>\n<p>5 rows × 26 columns</p>\n</div>"
     },
     "metadata": {},
     "execution_count": 73
    }
   ],
   "source": [
    "table1=pd.read_csv('C:/Users/Administrator/jupyter/netflix_titles.csv')\n",
    "b= table1['Unnamed: 5'].fillna(value = 0)\n",
    "table1.head()"
   ]
  },
  {
   "cell_type": "code",
   "execution_count": 74,
   "metadata": {},
   "outputs": [
    {
     "output_type": "execute_result",
     "data": {
      "text/plain": "0           Norm of the North: King Sized Adventure\n1                        Jandino: Whatever it Takes\n2                                Transformers Prime\n3                  Transformers: Robots in Disguise\n4                                      #realityhigh\n                           ...                     \n6226                                   Red vs. Blue\n6227                                          Maron\n6228         Little Baby Bum: Nursery Rhyme Friends\n6229    A Young Doctor's Notebook and Other Stories\n6230                                        Friends\nName: title, Length: 6231, dtype: object"
     },
     "metadata": {},
     "execution_count": 74
    }
   ],
   "source": [
    "# title column의 정보를 보자\n",
    "table1['title']\n"
   ]
  },
  {
   "cell_type": "code",
   "execution_count": 17,
   "metadata": {},
   "outputs": [],
   "source": [
    "#테이블에 품목당 100개당 재고율을 추가해보자.\n",
    "# table1['buying_rate']= (table1['unit_stock']-table1['unit'])*0.01\n",
    "# table1"
   ]
  },
  {
   "cell_type": "code",
   "execution_count": 18,
   "metadata": {},
   "outputs": [],
   "source": [
    "# buying_rate 을 제거한다. axis = 0은 열, axis = 1은 행을 의미, inplace는 기존 객체를 수정할지 말지의 여부를 결정.\n",
    "# table1.drop(labels = 'cast', axis = 1, inplace = True)\n",
    "# table1.head()"
   ]
  },
  {
   "cell_type": "code",
   "execution_count": 19,
   "metadata": {},
   "outputs": [
    {
     "output_type": "execute_result",
     "data": {
      "text/plain": "show_id                                                  80058654\ntype                                                      TV Show\ntitle                            Transformers: Robots in Disguise\ndirector                                                      NaN\ncountry                                             United States\nUnnamed: 5                                                    NaN\nrelease_year                                                 2016\nrating                                                      TV-Y7\nduration                                                 1 Season\nlisted_in                                                Kids' TV\ndescription     When a prison ship crash unleashes hundreds of...\nUnnamed: 11                                                   NaN\nUnnamed: 12                                                   NaN\nUnnamed: 13                                                   NaN\nUnnamed: 14                                                   NaN\nUnnamed: 15                                                   NaN\nUnnamed: 16                                                   NaN\nUnnamed: 17                                                   NaN\nUnnamed: 18                                                   NaN\nUnnamed: 19                                                   NaN\nUnnamed: 20                                                   NaN\nUnnamed: 21                                                   NaN\nUnnamed: 22                                                   NaN\nUnnamed: 23                                                   NaN\nUnnamed: 24                                                   NaN\nUnnamed: 25                                                   NaN\nName: 3, dtype: object"
     },
     "metadata": {},
     "execution_count": 19
    }
   ],
   "source": [
    "# 특정 행을 찾는기능\n",
    "table1.loc[3]"
   ]
  },
  {
   "cell_type": "code",
   "execution_count": 20,
   "metadata": {},
   "outputs": [
    {
     "output_type": "execute_result",
     "data": {
      "text/plain": "'Transformers: Robots in Disguise'"
     },
     "metadata": {},
     "execution_count": 20
    }
   ],
   "source": [
    "# 특정 행의 특정 열을 찾는 기능.\n",
    "table1.loc[3, 'title']"
   ]
  },
  {
   "cell_type": "code",
   "execution_count": 21,
   "metadata": {},
   "outputs": [
    {
     "output_type": "execute_result",
     "data": {
      "text/plain": "           country                               title\n1   United Kingdom          Jandino: Whatever it Takes\n7            Chile  Fabrizio Copano: Solo pienso en mi\n10             NaN         Joaqu챠n Reyes: Una y no m찼s",
      "text/html": "<div>\n<style scoped>\n    .dataframe tbody tr th:only-of-type {\n        vertical-align: middle;\n    }\n\n    .dataframe tbody tr th {\n        vertical-align: top;\n    }\n\n    .dataframe thead th {\n        text-align: right;\n    }\n</style>\n<table border=\"1\" class=\"dataframe\">\n  <thead>\n    <tr style=\"text-align: right;\">\n      <th></th>\n      <th>country</th>\n      <th>title</th>\n    </tr>\n  </thead>\n  <tbody>\n    <tr>\n      <td>1</td>\n      <td>United Kingdom</td>\n      <td>Jandino: Whatever it Takes</td>\n    </tr>\n    <tr>\n      <td>7</td>\n      <td>Chile</td>\n      <td>Fabrizio Copano: Solo pienso en mi</td>\n    </tr>\n    <tr>\n      <td>10</td>\n      <td>NaN</td>\n      <td>Joaqu챠n Reyes: Una y no m찼s</td>\n    </tr>\n  </tbody>\n</table>\n</div>"
     },
     "metadata": {},
     "execution_count": 21
    }
   ],
   "source": [
    "table1.loc[[1,7,10], ['country', 'title']]"
   ]
  },
  {
   "cell_type": "code",
   "execution_count": 22,
   "metadata": {},
   "outputs": [],
   "source": [
    "# price_per_unit의 가격이 5달러이상이고 unit이 45이상인 값들의 리스트를 불러오자.\n",
    "# table1[(table1['price_per_unit'] > 5) & (table1['unit'] > 45)] #and\n",
    "# table1[(table1['price_per_unit'] > 5) | (table1['unit'] > 45)] #or"
   ]
  },
  {
   "cell_type": "code",
   "execution_count": 33,
   "metadata": {},
   "outputs": [
    {
     "output_type": "error",
     "ename": "AttributeError",
     "evalue": "'Series' object has no attribute 'set_index'",
     "traceback": [
      "\u001b[1;31m---------------------------------------------------------------------------\u001b[0m",
      "\u001b[1;31mAttributeError\u001b[0m                            Traceback (most recent call last)",
      "\u001b[1;32m<ipython-input-33-6801555a1bdc>\u001b[0m in \u001b[0;36m<module>\u001b[1;34m\u001b[0m\n\u001b[0;32m      1\u001b[0m \u001b[1;31m#index로 지정하고 싶은 column을 설정해보자.\u001b[0m\u001b[1;33m\u001b[0m\u001b[1;33m\u001b[0m\u001b[1;33m\u001b[0m\u001b[0m\n\u001b[1;32m----> 2\u001b[1;33m \u001b[0mtable1\u001b[0m\u001b[1;33m.\u001b[0m\u001b[0mset_index\u001b[0m\u001b[1;33m(\u001b[0m\u001b[1;34m'rating'\u001b[0m\u001b[1;33m)\u001b[0m\u001b[1;33m\u001b[0m\u001b[1;33m\u001b[0m\u001b[0m\n\u001b[0m\u001b[0;32m      3\u001b[0m \u001b[0mtable1\u001b[0m\u001b[1;33m.\u001b[0m\u001b[0mhead\u001b[0m\u001b[1;33m(\u001b[0m\u001b[1;33m)\u001b[0m\u001b[1;33m\u001b[0m\u001b[1;33m\u001b[0m\u001b[0m\n",
      "\u001b[1;32mC:\\ProgramData\\Anaconda3\\lib\\site-packages\\pandas\\core\\generic.py\u001b[0m in \u001b[0;36m__getattr__\u001b[1;34m(self, name)\u001b[0m\n\u001b[0;32m   5177\u001b[0m             \u001b[1;32mif\u001b[0m \u001b[0mself\u001b[0m\u001b[1;33m.\u001b[0m\u001b[0m_info_axis\u001b[0m\u001b[1;33m.\u001b[0m\u001b[0m_can_hold_identifiers_and_holds_name\u001b[0m\u001b[1;33m(\u001b[0m\u001b[0mname\u001b[0m\u001b[1;33m)\u001b[0m\u001b[1;33m:\u001b[0m\u001b[1;33m\u001b[0m\u001b[1;33m\u001b[0m\u001b[0m\n\u001b[0;32m   5178\u001b[0m                 \u001b[1;32mreturn\u001b[0m \u001b[0mself\u001b[0m\u001b[1;33m[\u001b[0m\u001b[0mname\u001b[0m\u001b[1;33m]\u001b[0m\u001b[1;33m\u001b[0m\u001b[1;33m\u001b[0m\u001b[0m\n\u001b[1;32m-> 5179\u001b[1;33m             \u001b[1;32mreturn\u001b[0m \u001b[0mobject\u001b[0m\u001b[1;33m.\u001b[0m\u001b[0m__getattribute__\u001b[0m\u001b[1;33m(\u001b[0m\u001b[0mself\u001b[0m\u001b[1;33m,\u001b[0m \u001b[0mname\u001b[0m\u001b[1;33m)\u001b[0m\u001b[1;33m\u001b[0m\u001b[1;33m\u001b[0m\u001b[0m\n\u001b[0m\u001b[0;32m   5180\u001b[0m \u001b[1;33m\u001b[0m\u001b[0m\n\u001b[0;32m   5181\u001b[0m     \u001b[1;32mdef\u001b[0m \u001b[0m__setattr__\u001b[0m\u001b[1;33m(\u001b[0m\u001b[0mself\u001b[0m\u001b[1;33m,\u001b[0m \u001b[0mname\u001b[0m\u001b[1;33m,\u001b[0m \u001b[0mvalue\u001b[0m\u001b[1;33m)\u001b[0m\u001b[1;33m:\u001b[0m\u001b[1;33m\u001b[0m\u001b[1;33m\u001b[0m\u001b[0m\n",
      "\u001b[1;31mAttributeError\u001b[0m: 'Series' object has no attribute 'set_index'"
     ]
    }
   ],
   "source": [
    "#index로 지정하고 싶은 column을 설정해보자.\n",
    "table1.set_index('rating')\n",
    "table1.head()"
   ]
  },
  {
   "cell_type": "code",
   "execution_count": 36,
   "metadata": {},
   "outputs": [
    {
     "output_type": "execute_result",
     "data": {
      "text/plain": "0    Norm of the North: King Sized Adventure\n1                 Jandino: Whatever it Takes\n2                         Transformers Prime\n3           Transformers: Robots in Disguise\n4                               #realityhigh\nName: title, dtype: object"
     },
     "metadata": {},
     "execution_count": 36
    }
   ],
   "source": [
    "# index값을 원래대로 되돌려놓자.\n",
    "table1.reset_index()\n",
    "table1.head()"
   ]
  },
  {
   "cell_type": "code",
   "execution_count": 15,
   "metadata": {},
   "outputs": [
    {
     "output_type": "execute_result",
     "data": {
      "text/plain": "        date    place     name product_name  unit_stock  unit  price_per_unit  \\\n0  5/14/2020  Central     Gill       Pencil       100.0    53            1.29   \n1          0        0        0            0         0.0     0            0.00   \n2   7/4/2020     East    Jones      Pen Set       100.0    62            4.99   \n3  7/21/2020  Central   Morgan      Pen Set       100.0    55           12.49   \n4  8/24/2020     West  Sorvino         Desk       100.0     3          275.00   \n\n  totla_price  \n0       68.37  \n1           0  \n2      309.38  \n3      686.95  \n4         825  ",
      "text/html": "<div>\n<style scoped>\n    .dataframe tbody tr th:only-of-type {\n        vertical-align: middle;\n    }\n\n    .dataframe tbody tr th {\n        vertical-align: top;\n    }\n\n    .dataframe thead th {\n        text-align: right;\n    }\n</style>\n<table border=\"1\" class=\"dataframe\">\n  <thead>\n    <tr style=\"text-align: right;\">\n      <th></th>\n      <th>date</th>\n      <th>place</th>\n      <th>name</th>\n      <th>product_name</th>\n      <th>unit_stock</th>\n      <th>unit</th>\n      <th>price_per_unit</th>\n      <th>totla_price</th>\n    </tr>\n  </thead>\n  <tbody>\n    <tr>\n      <td>0</td>\n      <td>5/14/2020</td>\n      <td>Central</td>\n      <td>Gill</td>\n      <td>Pencil</td>\n      <td>100.0</td>\n      <td>53</td>\n      <td>1.29</td>\n      <td>68.37</td>\n    </tr>\n    <tr>\n      <td>1</td>\n      <td>0</td>\n      <td>0</td>\n      <td>0</td>\n      <td>0</td>\n      <td>0.0</td>\n      <td>0</td>\n      <td>0.00</td>\n      <td>0</td>\n    </tr>\n    <tr>\n      <td>2</td>\n      <td>7/4/2020</td>\n      <td>East</td>\n      <td>Jones</td>\n      <td>Pen Set</td>\n      <td>100.0</td>\n      <td>62</td>\n      <td>4.99</td>\n      <td>309.38</td>\n    </tr>\n    <tr>\n      <td>3</td>\n      <td>7/21/2020</td>\n      <td>Central</td>\n      <td>Morgan</td>\n      <td>Pen Set</td>\n      <td>100.0</td>\n      <td>55</td>\n      <td>12.49</td>\n      <td>686.95</td>\n    </tr>\n    <tr>\n      <td>4</td>\n      <td>8/24/2020</td>\n      <td>West</td>\n      <td>Sorvino</td>\n      <td>Desk</td>\n      <td>100.0</td>\n      <td>3</td>\n      <td>275.00</td>\n      <td>825</td>\n    </tr>\n  </tbody>\n</table>\n</div>"
     },
     "metadata": {},
     "execution_count": 15
    }
   ],
   "source": [
    "import numpy as np\n",
    "import pandas as pd\n",
    "table2=pd.read_csv('C:/Users/Administrator/jupyter/stationery.csv')\n",
    "table2.head()\n",
    "# 특정 열에 NaN일때 value = 0으로 숫자를 집어 넣어준다.\n",
    "table2.fillna(0)\n",
    "# 특정 행에 0을 집어넣자.\n",
    "table2.loc[1] = 0\n",
    "\n",
    "table2.head()"
   ]
  },
  {
   "cell_type": "code",
   "execution_count": 16,
   "metadata": {},
   "outputs": [
    {
     "output_type": "execute_result",
     "data": {
      "text/plain": "         count   mean        std   min    25%   50%   75%   max\nplace                                                          \n0          1.0   0.00        NaN   0.0   0.00   0.0   0.0   0.0\nCentral    4.0  33.25  24.005208  11.0  13.25  33.5  53.5  55.0\nEast       1.0  62.00        NaN  62.0  62.00  62.0  62.0  62.0\nWest       2.0  30.00  38.183766   3.0  16.50  30.0  43.5  57.0",
      "text/html": "<div>\n<style scoped>\n    .dataframe tbody tr th:only-of-type {\n        vertical-align: middle;\n    }\n\n    .dataframe tbody tr th {\n        vertical-align: top;\n    }\n\n    .dataframe thead th {\n        text-align: right;\n    }\n</style>\n<table border=\"1\" class=\"dataframe\">\n  <thead>\n    <tr style=\"text-align: right;\">\n      <th></th>\n      <th>count</th>\n      <th>mean</th>\n      <th>std</th>\n      <th>min</th>\n      <th>25%</th>\n      <th>50%</th>\n      <th>75%</th>\n      <th>max</th>\n    </tr>\n    <tr>\n      <th>place</th>\n      <th></th>\n      <th></th>\n      <th></th>\n      <th></th>\n      <th></th>\n      <th></th>\n      <th></th>\n      <th></th>\n    </tr>\n  </thead>\n  <tbody>\n    <tr>\n      <td>0</td>\n      <td>1.0</td>\n      <td>0.00</td>\n      <td>NaN</td>\n      <td>0.0</td>\n      <td>0.00</td>\n      <td>0.0</td>\n      <td>0.0</td>\n      <td>0.0</td>\n    </tr>\n    <tr>\n      <td>Central</td>\n      <td>4.0</td>\n      <td>33.25</td>\n      <td>24.005208</td>\n      <td>11.0</td>\n      <td>13.25</td>\n      <td>33.5</td>\n      <td>53.5</td>\n      <td>55.0</td>\n    </tr>\n    <tr>\n      <td>East</td>\n      <td>1.0</td>\n      <td>62.00</td>\n      <td>NaN</td>\n      <td>62.0</td>\n      <td>62.00</td>\n      <td>62.0</td>\n      <td>62.0</td>\n      <td>62.0</td>\n    </tr>\n    <tr>\n      <td>West</td>\n      <td>2.0</td>\n      <td>30.00</td>\n      <td>38.183766</td>\n      <td>3.0</td>\n      <td>16.50</td>\n      <td>30.0</td>\n      <td>43.5</td>\n      <td>57.0</td>\n    </tr>\n  </tbody>\n</table>\n</div>"
     },
     "metadata": {},
     "execution_count": 16
    }
   ],
   "source": [
    "# 'place'를 그룹핑하여 만든 by_place의 생김새를 관찰해보자. \n",
    "by_place = table2.groupby('place')\n",
    "by_place.describe()\n",
    "by_place.fillna(0)\n",
    "\n",
    "# 특정 column의 생김새만 관찰해보자.\n",
    "by_place.describe()['unit']\n"
   ]
  },
  {
   "cell_type": "code",
   "execution_count": 17,
   "metadata": {},
   "outputs": [
    {
     "output_type": "execute_result",
     "data": {
      "text/plain": "         unit_stock   unit  price_per_unit\nplace                                     \n0               0.0   0.00           0.000\nCentral       100.0  33.25           5.015\nEast          100.0  62.00           4.990\nWest          100.0  30.00         147.495",
      "text/html": "<div>\n<style scoped>\n    .dataframe tbody tr th:only-of-type {\n        vertical-align: middle;\n    }\n\n    .dataframe tbody tr th {\n        vertical-align: top;\n    }\n\n    .dataframe thead th {\n        text-align: right;\n    }\n</style>\n<table border=\"1\" class=\"dataframe\">\n  <thead>\n    <tr style=\"text-align: right;\">\n      <th></th>\n      <th>unit_stock</th>\n      <th>unit</th>\n      <th>price_per_unit</th>\n    </tr>\n    <tr>\n      <th>place</th>\n      <th></th>\n      <th></th>\n      <th></th>\n    </tr>\n  </thead>\n  <tbody>\n    <tr>\n      <td>0</td>\n      <td>0.0</td>\n      <td>0.00</td>\n      <td>0.000</td>\n    </tr>\n    <tr>\n      <td>Central</td>\n      <td>100.0</td>\n      <td>33.25</td>\n      <td>5.015</td>\n    </tr>\n    <tr>\n      <td>East</td>\n      <td>100.0</td>\n      <td>62.00</td>\n      <td>4.990</td>\n    </tr>\n    <tr>\n      <td>West</td>\n      <td>100.0</td>\n      <td>30.00</td>\n      <td>147.495</td>\n    </tr>\n  </tbody>\n</table>\n</div>"
     },
     "metadata": {},
     "execution_count": 17
    }
   ],
   "source": [
    "# by_place의 평균\n",
    "by_place.mean()"
   ]
  },
  {
   "cell_type": "code",
   "execution_count": 18,
   "metadata": {},
   "outputs": [
    {
     "output_type": "execute_result",
     "data": {
      "text/plain": "array(['Central', 0, 'East', 'West'], dtype=object)"
     },
     "metadata": {},
     "execution_count": 18
    }
   ],
   "source": [
    "# place column의 값들의 항목을 알아보자\n",
    "table2['place'].unique()"
   ]
  },
  {
   "cell_type": "code",
   "execution_count": 19,
   "metadata": {},
   "outputs": [
    {
     "output_type": "execute_result",
     "data": {
      "text/plain": "4"
     },
     "metadata": {},
     "execution_count": 19
    }
   ],
   "source": [
    "# 위의 항목들의 개수를 알아보자.\n",
    "table2['place'].nunique()"
   ]
  },
  {
   "cell_type": "code",
   "execution_count": 20,
   "metadata": {},
   "outputs": [
    {
     "output_type": "execute_result",
     "data": {
      "text/plain": "Central    4\nWest       2\nEast       1\n0          1\nName: place, dtype: int64"
     },
     "metadata": {},
     "execution_count": 20
    }
   ],
   "source": [
    "# 각 항목들의 개수를 알아보자.\n",
    "table2['place'].value_counts()"
   ]
  },
  {
   "cell_type": "code",
   "execution_count": 21,
   "metadata": {},
   "outputs": [
    {
     "output_type": "execute_result",
     "data": {
      "text/plain": "         date    place     name product_name  unit_stock  unit  \\\n0   5/14/2020  Central     Gill       Pencil       100.0    53   \n3   7/21/2020  Central   Morgan      Pen Set       100.0    55   \n6  10/31/2020  Central  Andrews       Pencil       100.0    14   \n7  11/17/2020  Central  Jardine       Binder         NaN    11   \n\n   price_per_unit totla_price  \n0            1.29       68.37  \n3           12.49      686.95  \n6            1.29       18.06  \n7            4.99       54.89  ",
      "text/html": "<div>\n<style scoped>\n    .dataframe tbody tr th:only-of-type {\n        vertical-align: middle;\n    }\n\n    .dataframe tbody tr th {\n        vertical-align: top;\n    }\n\n    .dataframe thead th {\n        text-align: right;\n    }\n</style>\n<table border=\"1\" class=\"dataframe\">\n  <thead>\n    <tr style=\"text-align: right;\">\n      <th></th>\n      <th>date</th>\n      <th>place</th>\n      <th>name</th>\n      <th>product_name</th>\n      <th>unit_stock</th>\n      <th>unit</th>\n      <th>price_per_unit</th>\n      <th>totla_price</th>\n    </tr>\n  </thead>\n  <tbody>\n    <tr>\n      <td>0</td>\n      <td>5/14/2020</td>\n      <td>Central</td>\n      <td>Gill</td>\n      <td>Pencil</td>\n      <td>100.0</td>\n      <td>53</td>\n      <td>1.29</td>\n      <td>68.37</td>\n    </tr>\n    <tr>\n      <td>3</td>\n      <td>7/21/2020</td>\n      <td>Central</td>\n      <td>Morgan</td>\n      <td>Pen Set</td>\n      <td>100.0</td>\n      <td>55</td>\n      <td>12.49</td>\n      <td>686.95</td>\n    </tr>\n    <tr>\n      <td>6</td>\n      <td>10/31/2020</td>\n      <td>Central</td>\n      <td>Andrews</td>\n      <td>Pencil</td>\n      <td>100.0</td>\n      <td>14</td>\n      <td>1.29</td>\n      <td>18.06</td>\n    </tr>\n    <tr>\n      <td>7</td>\n      <td>11/17/2020</td>\n      <td>Central</td>\n      <td>Jardine</td>\n      <td>Binder</td>\n      <td>NaN</td>\n      <td>11</td>\n      <td>4.99</td>\n      <td>54.89</td>\n    </tr>\n  </tbody>\n</table>\n</div>"
     },
     "metadata": {},
     "execution_count": 21
    }
   ],
   "source": [
    "# Place가 Central인 놈들의 값들로만 테이블(table2)을 만들어보자.\n",
    "Central_df = table2[table2['place'] == 'Central']\n",
    "Central_df.head()"
   ]
  },
  {
   "cell_type": "code",
   "execution_count": 22,
   "metadata": {},
   "outputs": [
    {
     "output_type": "execute_result",
     "data": {
      "text/plain": "        date    place     name product_name  unit_stock  unit  price_per_unit  \\\n0  5/14/2020  Central     Gill       Pencil       100.0    53            1.29   \n1          0        0        0            0         0.0     0            0.00   \n2   7/4/2020     East    Jones      Pen Set       100.0    62            4.99   \n3  7/21/2020  Central   Morgan      Pen Set       100.0    55           12.49   \n4  8/24/2020     West  Sorvino         Desk       100.0     3          275.00   \n\n  totla_price  \n0       68.37  \n1           0  \n2      309.38  \n3      686.95  \n4         825  ",
      "text/html": "<div>\n<style scoped>\n    .dataframe tbody tr th:only-of-type {\n        vertical-align: middle;\n    }\n\n    .dataframe tbody tr th {\n        vertical-align: top;\n    }\n\n    .dataframe thead th {\n        text-align: right;\n    }\n</style>\n<table border=\"1\" class=\"dataframe\">\n  <thead>\n    <tr style=\"text-align: right;\">\n      <th></th>\n      <th>date</th>\n      <th>place</th>\n      <th>name</th>\n      <th>product_name</th>\n      <th>unit_stock</th>\n      <th>unit</th>\n      <th>price_per_unit</th>\n      <th>totla_price</th>\n    </tr>\n  </thead>\n  <tbody>\n    <tr>\n      <td>0</td>\n      <td>5/14/2020</td>\n      <td>Central</td>\n      <td>Gill</td>\n      <td>Pencil</td>\n      <td>100.0</td>\n      <td>53</td>\n      <td>1.29</td>\n      <td>68.37</td>\n    </tr>\n    <tr>\n      <td>1</td>\n      <td>0</td>\n      <td>0</td>\n      <td>0</td>\n      <td>0</td>\n      <td>0.0</td>\n      <td>0</td>\n      <td>0.00</td>\n      <td>0</td>\n    </tr>\n    <tr>\n      <td>2</td>\n      <td>7/4/2020</td>\n      <td>East</td>\n      <td>Jones</td>\n      <td>Pen Set</td>\n      <td>100.0</td>\n      <td>62</td>\n      <td>4.99</td>\n      <td>309.38</td>\n    </tr>\n    <tr>\n      <td>3</td>\n      <td>7/21/2020</td>\n      <td>Central</td>\n      <td>Morgan</td>\n      <td>Pen Set</td>\n      <td>100.0</td>\n      <td>55</td>\n      <td>12.49</td>\n      <td>686.95</td>\n    </tr>\n    <tr>\n      <td>4</td>\n      <td>8/24/2020</td>\n      <td>West</td>\n      <td>Sorvino</td>\n      <td>Desk</td>\n      <td>100.0</td>\n      <td>3</td>\n      <td>275.00</td>\n      <td>825</td>\n    </tr>\n  </tbody>\n</table>\n</div>"
     },
     "metadata": {},
     "execution_count": 22
    }
   ],
   "source": [
    "# table1을 price_per_unit column의 값들을 오름차순으로 정렬해보자.\n",
    "table2.sort_values(by = 'price_per_unit', ascending = False)\n",
    "table2.head()"
   ]
  },
  {
   "cell_type": "code",
   "execution_count": 23,
   "metadata": {},
   "outputs": [
    {
     "output_type": "execute_result",
     "data": {
      "text/plain": "0    7.280110\n1    0.000000\n2    7.874008\n3    7.416198\n4    1.732051\n5    7.549834\n6    3.741657\n7    3.316625\nName: unit, dtype: float64"
     },
     "metadata": {},
     "execution_count": 23
    }
   ],
   "source": [
    "table2['unit'].apply(np.sqrt)"
   ]
  },
  {
   "cell_type": "code",
   "execution_count": 33,
   "metadata": {},
   "outputs": [
    {
     "output_type": "execute_result",
     "data": {
      "text/plain": "         date    place      name product_name  unit_stock  unit  \\\n0   5/14/2020  Central      Gill       Pencil       100.0    53   \n1           0        0         0            0         0.0     0   \n2    7/4/2020     East     Jones      Pen Set       100.0    62   \n3   7/21/2020  Central    Morgan      Pen Set       100.0    55   \n4   8/24/2020     West   Sorvino         Desk       100.0     3   \n5  10/14/2020     West  Thompson       Binder         NaN    57   \n6  10/31/2020  Central   Andrews       Pencil       100.0    14   \n7  11/17/2020  Central   Jardine       Binder         NaN    11   \n\n   price_per_unit totla_price  \n0            1.29       68.37  \n1            0.00           0  \n2            4.99      309.38  \n3           12.49      686.95  \n4          275.00         825  \n5           19.99    1,139.43  \n6            1.29       18.06  \n7            4.99       54.89  ",
      "text/html": "<div>\n<style scoped>\n    .dataframe tbody tr th:only-of-type {\n        vertical-align: middle;\n    }\n\n    .dataframe tbody tr th {\n        vertical-align: top;\n    }\n\n    .dataframe thead th {\n        text-align: right;\n    }\n</style>\n<table border=\"1\" class=\"dataframe\">\n  <thead>\n    <tr style=\"text-align: right;\">\n      <th></th>\n      <th>date</th>\n      <th>place</th>\n      <th>name</th>\n      <th>product_name</th>\n      <th>unit_stock</th>\n      <th>unit</th>\n      <th>price_per_unit</th>\n      <th>totla_price</th>\n    </tr>\n  </thead>\n  <tbody>\n    <tr>\n      <td>0</td>\n      <td>5/14/2020</td>\n      <td>Central</td>\n      <td>Gill</td>\n      <td>Pencil</td>\n      <td>100.0</td>\n      <td>53</td>\n      <td>1.29</td>\n      <td>68.37</td>\n    </tr>\n    <tr>\n      <td>1</td>\n      <td>0</td>\n      <td>0</td>\n      <td>0</td>\n      <td>0</td>\n      <td>0.0</td>\n      <td>0</td>\n      <td>0.00</td>\n      <td>0</td>\n    </tr>\n    <tr>\n      <td>2</td>\n      <td>7/4/2020</td>\n      <td>East</td>\n      <td>Jones</td>\n      <td>Pen Set</td>\n      <td>100.0</td>\n      <td>62</td>\n      <td>4.99</td>\n      <td>309.38</td>\n    </tr>\n    <tr>\n      <td>3</td>\n      <td>7/21/2020</td>\n      <td>Central</td>\n      <td>Morgan</td>\n      <td>Pen Set</td>\n      <td>100.0</td>\n      <td>55</td>\n      <td>12.49</td>\n      <td>686.95</td>\n    </tr>\n    <tr>\n      <td>4</td>\n      <td>8/24/2020</td>\n      <td>West</td>\n      <td>Sorvino</td>\n      <td>Desk</td>\n      <td>100.0</td>\n      <td>3</td>\n      <td>275.00</td>\n      <td>825</td>\n    </tr>\n    <tr>\n      <td>5</td>\n      <td>10/14/2020</td>\n      <td>West</td>\n      <td>Thompson</td>\n      <td>Binder</td>\n      <td>NaN</td>\n      <td>57</td>\n      <td>19.99</td>\n      <td>1,139.43</td>\n    </tr>\n    <tr>\n      <td>6</td>\n      <td>10/31/2020</td>\n      <td>Central</td>\n      <td>Andrews</td>\n      <td>Pencil</td>\n      <td>100.0</td>\n      <td>14</td>\n      <td>1.29</td>\n      <td>18.06</td>\n    </tr>\n    <tr>\n      <td>7</td>\n      <td>11/17/2020</td>\n      <td>Central</td>\n      <td>Jardine</td>\n      <td>Binder</td>\n      <td>NaN</td>\n      <td>11</td>\n      <td>4.99</td>\n      <td>54.89</td>\n    </tr>\n  </tbody>\n</table>\n</div>"
     },
     "metadata": {},
     "execution_count": 33
    }
   ],
   "source": [
    "#  파일을 불러오자.\n",
    "# a = pd.read_csv('filename')\n",
    "#  파일을 저장해보자. (index 판별은 index값을 저장할 것인지 값만 저장할 것인지 결정.)\n",
    "# table2.to_csv('stationery1.csv', index = True)\n",
    "#  excel file의 특정sheet를 불러오자.\n",
    "# b = pd.read_excel('filename', sheet_name = 'sheet1')\n",
    "#  excel file의 특정sheet를 저장하자.\n",
    "# b.to_excel('filename', sheet_name = 'sheet1')\n",
    "#  html의 데이터를 불러와보자.\n",
    "# c = pd.read_html('URL')\n",
    "# c[0].head()\n"
   ]
  },
  {
   "cell_type": "code",
   "execution_count": 25,
   "metadata": {},
   "outputs": [
    {
     "output_type": "execute_result",
     "data": {
      "text/plain": "         date    place      name product_name  unit_stock  unit  \\\n0   5/14/2020  Central      Gill       Pencil       100.0    53   \n1           0        0         0            0         0.0     0   \n2    7/4/2020     East     Jones      Pen Set       100.0    62   \n3   7/21/2020  Central    Morgan      Pen Set       100.0    55   \n4   8/24/2020     West   Sorvino         Desk       100.0     3   \n5  10/14/2020     West  Thompson       Binder         NaN    57   \n6  10/31/2020  Central   Andrews       Pencil       100.0    14   \n7  11/17/2020  Central   Jardine       Binder         NaN    11   \n\n   price_per_unit totla_price  \n0            1.29       68.37  \n1            0.00           0  \n2            4.99      309.38  \n3           12.49      686.95  \n4          275.00         825  \n5           19.99    1,139.43  \n6            1.29       18.06  \n7            4.99       54.89  ",
      "text/html": "<div>\n<style scoped>\n    .dataframe tbody tr th:only-of-type {\n        vertical-align: middle;\n    }\n\n    .dataframe tbody tr th {\n        vertical-align: top;\n    }\n\n    .dataframe thead th {\n        text-align: right;\n    }\n</style>\n<table border=\"1\" class=\"dataframe\">\n  <thead>\n    <tr style=\"text-align: right;\">\n      <th></th>\n      <th>date</th>\n      <th>place</th>\n      <th>name</th>\n      <th>product_name</th>\n      <th>unit_stock</th>\n      <th>unit</th>\n      <th>price_per_unit</th>\n      <th>totla_price</th>\n    </tr>\n  </thead>\n  <tbody>\n    <tr>\n      <td>0</td>\n      <td>5/14/2020</td>\n      <td>Central</td>\n      <td>Gill</td>\n      <td>Pencil</td>\n      <td>100.0</td>\n      <td>53</td>\n      <td>1.29</td>\n      <td>68.37</td>\n    </tr>\n    <tr>\n      <td>1</td>\n      <td>0</td>\n      <td>0</td>\n      <td>0</td>\n      <td>0</td>\n      <td>0.0</td>\n      <td>0</td>\n      <td>0.00</td>\n      <td>0</td>\n    </tr>\n    <tr>\n      <td>2</td>\n      <td>7/4/2020</td>\n      <td>East</td>\n      <td>Jones</td>\n      <td>Pen Set</td>\n      <td>100.0</td>\n      <td>62</td>\n      <td>4.99</td>\n      <td>309.38</td>\n    </tr>\n    <tr>\n      <td>3</td>\n      <td>7/21/2020</td>\n      <td>Central</td>\n      <td>Morgan</td>\n      <td>Pen Set</td>\n      <td>100.0</td>\n      <td>55</td>\n      <td>12.49</td>\n      <td>686.95</td>\n    </tr>\n    <tr>\n      <td>4</td>\n      <td>8/24/2020</td>\n      <td>West</td>\n      <td>Sorvino</td>\n      <td>Desk</td>\n      <td>100.0</td>\n      <td>3</td>\n      <td>275.00</td>\n      <td>825</td>\n    </tr>\n    <tr>\n      <td>5</td>\n      <td>10/14/2020</td>\n      <td>West</td>\n      <td>Thompson</td>\n      <td>Binder</td>\n      <td>NaN</td>\n      <td>57</td>\n      <td>19.99</td>\n      <td>1,139.43</td>\n    </tr>\n    <tr>\n      <td>6</td>\n      <td>10/31/2020</td>\n      <td>Central</td>\n      <td>Andrews</td>\n      <td>Pencil</td>\n      <td>100.0</td>\n      <td>14</td>\n      <td>1.29</td>\n      <td>18.06</td>\n    </tr>\n    <tr>\n      <td>7</td>\n      <td>11/17/2020</td>\n      <td>Central</td>\n      <td>Jardine</td>\n      <td>Binder</td>\n      <td>NaN</td>\n      <td>11</td>\n      <td>4.99</td>\n      <td>54.89</td>\n    </tr>\n  </tbody>\n</table>\n</div>"
     },
     "metadata": {},
     "execution_count": 25
    }
   ],
   "source": [
    "# fillna(method='ffill'or'pad') = NaN값을 바로 위의 데이터로 처리한다.\n",
    "# fillna(method='bfill'or'backfill') = NaN값을 바로 밑의 데이터로 처리한다.\n",
    "table2.rename(columns={'place':'장소'})\n",
    "# 해당 데이터프레임의 행열 형태를 알고싶다!!\n",
    "# table2.shape"
   ]
  },
  {
   "cell_type": "code",
   "execution_count": 26,
   "metadata": {},
   "outputs": [
    {
     "output_type": "execute_result",
     "data": {
      "text/plain": "                      unit\nproduct_name place        \n0            0         0.0\nBinder       Central  11.0\n             West     57.0\nDesk         West      3.0\nPen Set      Central  55.0\n             East     62.0\nPencil       Central  33.5",
      "text/html": "<div>\n<style scoped>\n    .dataframe tbody tr th:only-of-type {\n        vertical-align: middle;\n    }\n\n    .dataframe tbody tr th {\n        vertical-align: top;\n    }\n\n    .dataframe thead th {\n        text-align: right;\n    }\n</style>\n<table border=\"1\" class=\"dataframe\">\n  <thead>\n    <tr style=\"text-align: right;\">\n      <th></th>\n      <th></th>\n      <th>unit</th>\n    </tr>\n    <tr>\n      <th>product_name</th>\n      <th>place</th>\n      <th></th>\n    </tr>\n  </thead>\n  <tbody>\n    <tr>\n      <td>0</td>\n      <td>0</td>\n      <td>0.0</td>\n    </tr>\n    <tr>\n      <td rowspan=\"2\" valign=\"top\">Binder</td>\n      <td>Central</td>\n      <td>11.0</td>\n    </tr>\n    <tr>\n      <td>West</td>\n      <td>57.0</td>\n    </tr>\n    <tr>\n      <td>Desk</td>\n      <td>West</td>\n      <td>3.0</td>\n    </tr>\n    <tr>\n      <td rowspan=\"2\" valign=\"top\">Pen Set</td>\n      <td>Central</td>\n      <td>55.0</td>\n    </tr>\n    <tr>\n      <td>East</td>\n      <td>62.0</td>\n    </tr>\n    <tr>\n      <td>Pencil</td>\n      <td>Central</td>\n      <td>33.5</td>\n    </tr>\n  </tbody>\n</table>\n</div>"
     },
     "metadata": {},
     "execution_count": 26
    }
   ],
   "source": [
    "# 두 가지 기준의 값으로 pivot_table을 짜보자.\n",
    "table2.pivot_table(values = 'unit', index = ['product_name','place'])"
   ]
  },
  {
   "cell_type": "code",
   "execution_count": null,
   "metadata": {},
   "outputs": [],
   "source": [
    "# 직업별 평균 나이를 세고, 22세 이상만 필터링하고, 나이순으로 정렬한 결과 생성\n",
    "# query 메서드는 조건식을 문자열로 입력받아 해당 조건에 만족하는 행을 추출해 출력해주는 함수이다. - 성능의 우위를 위해 만들어짐.\n",
    "df.group_ny('직업').agg({'나이':np.mean}).query('나이>22').sort_values('나이', ascending=False)\\\n",
    ".plot(kind='bar')"
   ]
  },
  {
   "cell_type": "code",
   "execution_count": 35,
   "metadata": {},
   "outputs": [],
   "source": [
    "# 글씨체를 바꿔보자.\n",
    "import matplotlib.pyplot as plt\n",
    "plt.rcParams['font.family'] = 'AppleGothic'"
   ]
  },
  {
   "cell_type": "code",
   "execution_count": null,
   "metadata": {},
   "outputs": [],
   "source": []
  }
 ],
 "metadata": {
  "language_info": {
   "codemirror_mode": {
    "name": "ipython",
    "version": 3
   },
   "file_extension": ".py",
   "mimetype": "text/x-python",
   "name": "python",
   "nbconvert_exporter": "python",
   "pygments_lexer": "ipython3",
   "version": "3.7.4-final"
  },
  "orig_nbformat": 2,
  "kernelspec": {
   "name": "python3",
   "display_name": "Python 3"
  }
 },
 "nbformat": 4,
 "nbformat_minor": 2
}